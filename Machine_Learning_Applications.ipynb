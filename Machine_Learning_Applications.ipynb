{
  "cells": [
    {
      "cell_type": "code",
      "execution_count": null,
      "id": "a8a2c2dc-31f3-4d28-8482-88460080a79a",
      "metadata": {
        "id": "a8a2c2dc-31f3-4d28-8482-88460080a79a",
        "outputId": "4b99138f-7272-4570-ceaf-4f9bd1b2d2f4"
      },
      "outputs": [
        {
          "name": "stdout",
          "output_type": "stream",
          "text": [
            "WARNING:tensorflow:From C:\\Users\\ASUS\\AppData\\Local\\Programs\\Python\\Python311\\Lib\\site-packages\\keras\\src\\losses.py:2976: The name tf.losses.sparse_softmax_cross_entropy is deprecated. Please use tf.compat.v1.losses.sparse_softmax_cross_entropy instead.\n",
            "\n"
          ]
        }
      ],
      "source": [
        "import numpy as np\n",
        "import pandas as pd\n",
        "import matplotlib.pyplot as plt\n",
        "from sklearn.preprocessing import MinMaxScaler\n",
        "from sklearn.model_selection import train_test_split\n",
        "from keras.models import Sequential\n",
        "from keras.layers import LSTM, Dense"
      ]
    },
    {
      "cell_type": "code",
      "execution_count": null,
      "id": "269dc0ea-8244-4de3-9d07-0a286df3f566",
      "metadata": {
        "id": "269dc0ea-8244-4de3-9d07-0a286df3f566",
        "outputId": "993cd17d-1b60-4ab4-81c1-e1e729b6caa4"
      },
      "outputs": [
        {
          "data": {
            "text/html": [
              "<div>\n",
              "<style scoped>\n",
              "    .dataframe tbody tr th:only-of-type {\n",
              "        vertical-align: middle;\n",
              "    }\n",
              "\n",
              "    .dataframe tbody tr th {\n",
              "        vertical-align: top;\n",
              "    }\n",
              "\n",
              "    .dataframe thead th {\n",
              "        text-align: right;\n",
              "    }\n",
              "</style>\n",
              "<table border=\"1\" class=\"dataframe\">\n",
              "  <thead>\n",
              "    <tr style=\"text-align: right;\">\n",
              "      <th></th>\n",
              "      <th>open_time</th>\n",
              "      <th>open</th>\n",
              "      <th>high</th>\n",
              "      <th>low</th>\n",
              "      <th>close</th>\n",
              "      <th>volume</th>\n",
              "      <th>close_time</th>\n",
              "      <th>quote_volume</th>\n",
              "      <th>count</th>\n",
              "      <th>taker_buy_volume</th>\n",
              "      <th>taker_buy_quote_volume</th>\n",
              "      <th>ignore</th>\n",
              "    </tr>\n",
              "  </thead>\n",
              "  <tbody>\n",
              "    <tr>\n",
              "      <th>0</th>\n",
              "      <td>1698796800000</td>\n",
              "      <td>34651.4</td>\n",
              "      <td>34676.5</td>\n",
              "      <td>34650.0</td>\n",
              "      <td>34669.9</td>\n",
              "      <td>376.040</td>\n",
              "      <td>1698796859999</td>\n",
              "      <td>1.303610e+07</td>\n",
              "      <td>4214</td>\n",
              "      <td>199.885</td>\n",
              "      <td>6.929501e+06</td>\n",
              "      <td>0</td>\n",
              "    </tr>\n",
              "    <tr>\n",
              "      <th>1</th>\n",
              "      <td>1698796860000</td>\n",
              "      <td>34669.9</td>\n",
              "      <td>34684.0</td>\n",
              "      <td>34637.3</td>\n",
              "      <td>34637.4</td>\n",
              "      <td>431.177</td>\n",
              "      <td>1698796919999</td>\n",
              "      <td>1.494828e+07</td>\n",
              "      <td>4495</td>\n",
              "      <td>229.490</td>\n",
              "      <td>7.957308e+06</td>\n",
              "      <td>0</td>\n",
              "    </tr>\n",
              "    <tr>\n",
              "      <th>2</th>\n",
              "      <td>1698796920000</td>\n",
              "      <td>34637.4</td>\n",
              "      <td>34653.4</td>\n",
              "      <td>34632.5</td>\n",
              "      <td>34651.4</td>\n",
              "      <td>175.894</td>\n",
              "      <td>1698796979999</td>\n",
              "      <td>6.093655e+06</td>\n",
              "      <td>2669</td>\n",
              "      <td>71.494</td>\n",
              "      <td>2.476893e+06</td>\n",
              "      <td>0</td>\n",
              "    </tr>\n",
              "    <tr>\n",
              "      <th>3</th>\n",
              "      <td>1698796980000</td>\n",
              "      <td>34651.3</td>\n",
              "      <td>34651.4</td>\n",
              "      <td>34608.6</td>\n",
              "      <td>34621.1</td>\n",
              "      <td>476.587</td>\n",
              "      <td>1698797039999</td>\n",
              "      <td>1.650097e+07</td>\n",
              "      <td>5182</td>\n",
              "      <td>89.613</td>\n",
              "      <td>3.102759e+06</td>\n",
              "      <td>0</td>\n",
              "    </tr>\n",
              "    <tr>\n",
              "      <th>4</th>\n",
              "      <td>1698797040000</td>\n",
              "      <td>34621.1</td>\n",
              "      <td>34622.6</td>\n",
              "      <td>34592.0</td>\n",
              "      <td>34615.4</td>\n",
              "      <td>546.312</td>\n",
              "      <td>1698797099999</td>\n",
              "      <td>1.890390e+07</td>\n",
              "      <td>5557</td>\n",
              "      <td>214.962</td>\n",
              "      <td>7.438203e+06</td>\n",
              "      <td>0</td>\n",
              "    </tr>\n",
              "  </tbody>\n",
              "</table>\n",
              "</div>"
            ],
            "text/plain": [
              "       open_time     open     high      low    close   volume     close_time  \\\n",
              "0  1698796800000  34651.4  34676.5  34650.0  34669.9  376.040  1698796859999   \n",
              "1  1698796860000  34669.9  34684.0  34637.3  34637.4  431.177  1698796919999   \n",
              "2  1698796920000  34637.4  34653.4  34632.5  34651.4  175.894  1698796979999   \n",
              "3  1698796980000  34651.3  34651.4  34608.6  34621.1  476.587  1698797039999   \n",
              "4  1698797040000  34621.1  34622.6  34592.0  34615.4  546.312  1698797099999   \n",
              "\n",
              "   quote_volume  count  taker_buy_volume  taker_buy_quote_volume  ignore  \n",
              "0  1.303610e+07   4214           199.885            6.929501e+06       0  \n",
              "1  1.494828e+07   4495           229.490            7.957308e+06       0  \n",
              "2  6.093655e+06   2669            71.494            2.476893e+06       0  \n",
              "3  1.650097e+07   5182            89.613            3.102759e+06       0  \n",
              "4  1.890390e+07   5557           214.962            7.438203e+06       0  "
            ]
          },
          "execution_count": 2,
          "metadata": {},
          "output_type": "execute_result"
        }
      ],
      "source": [
        "df = pd.read_csv(\"BTCUSDT-1m-2023-11.csv\")\n",
        "df.head()"
      ]
    },
    {
      "cell_type": "markdown",
      "id": "a45e5901-ca29-49be-a7d7-26c1423ce5ed",
      "metadata": {
        "id": "a45e5901-ca29-49be-a7d7-26c1423ce5ed"
      },
      "source": [
        "### Converts input to suitable form for LSTM Model (predicting today's price using previous 10 prices)"
      ]
    },
    {
      "cell_type": "code",
      "execution_count": null,
      "id": "7806e5c8-ab51-422d-82c9-c7d64cfce8ed",
      "metadata": {
        "id": "7806e5c8-ab51-422d-82c9-c7d64cfce8ed"
      },
      "outputs": [],
      "source": [
        "def sequence(close, length):\n",
        "    x = []\n",
        "    y = []\n",
        "    for i in range(len(close) - length):\n",
        "        x.append(close[i:(i + length), 0])\n",
        "        y.append(close[i + length, 0])\n",
        "    seq = np.array(x)\n",
        "    cur = np.array(y)\n",
        "    return seq, cur"
      ]
    },
    {
      "cell_type": "markdown",
      "id": "f7a8b9be-9d6d-4f89-aee0-67992db91890",
      "metadata": {
        "id": "f7a8b9be-9d6d-4f89-aee0-67992db91890"
      },
      "source": [
        "#### Normalise the given input between 0 and 1 to improve results and get sequences"
      ]
    },
    {
      "cell_type": "code",
      "execution_count": null,
      "id": "e1e5e535-3ed2-4388-91c5-07d7e0dd45e2",
      "metadata": {
        "id": "e1e5e535-3ed2-4388-91c5-07d7e0dd45e2"
      },
      "outputs": [],
      "source": [
        "close = df['close'].values.reshape(-1, 1)\n",
        "\n",
        "scaler = MinMaxScaler(feature_range=(0, 1))\n",
        "norm_close = scaler.fit_transform(close)\n",
        "\n",
        "sequences, curr = sequence(norm_close, 10)"
      ]
    },
    {
      "cell_type": "markdown",
      "id": "c9445971-f7d3-480b-9cc4-ea297d066fef",
      "metadata": {
        "id": "c9445971-f7d3-480b-9cc4-ea297d066fef"
      },
      "source": [
        "#### Splitting into train and test data and close prices"
      ]
    },
    {
      "cell_type": "code",
      "execution_count": null,
      "id": "27a6a517-081a-40d1-a6dd-2ec0a62d20e4",
      "metadata": {
        "id": "27a6a517-081a-40d1-a6dd-2ec0a62d20e4",
        "outputId": "7400aac3-f232-4ea1-cd96-8b3c52bf496a"
      },
      "outputs": [
        {
          "data": {
            "text/plain": [
              "(34552, 10, 1)"
            ]
          },
          "execution_count": 5,
          "metadata": {},
          "output_type": "execute_result"
        }
      ],
      "source": [
        "X_train, X_test, y_train, y_test = train_test_split(sequences, curr, test_size=0.2, random_state=50)\n",
        "\n",
        "X_train = np.reshape(X_train, (X_train.shape[0], X_train.shape[1], 1))\n",
        "X_test = np.reshape(X_test, (X_test.shape[0], X_test.shape[1], 1))\n",
        "\n",
        "X_train.shape"
      ]
    },
    {
      "cell_type": "markdown",
      "id": "e49ce304-d0dd-49a2-8217-701ae94e7f1f",
      "metadata": {
        "id": "e49ce304-d0dd-49a2-8217-701ae94e7f1f"
      },
      "source": [
        "#### Model creation\n"
      ]
    },
    {
      "cell_type": "code",
      "execution_count": null,
      "id": "e9de7b2c-8842-499d-aaad-48e4a1364d59",
      "metadata": {
        "id": "e9de7b2c-8842-499d-aaad-48e4a1364d59",
        "outputId": "dff89016-c527-49cb-80a3-ee4c151dc07e"
      },
      "outputs": [
        {
          "name": "stdout",
          "output_type": "stream",
          "text": [
            "WARNING:tensorflow:From C:\\Users\\ASUS\\AppData\\Local\\Programs\\Python\\Python311\\Lib\\site-packages\\keras\\src\\backend.py:873: The name tf.get_default_graph is deprecated. Please use tf.compat.v1.get_default_graph instead.\n",
            "\n",
            "WARNING:tensorflow:From C:\\Users\\ASUS\\AppData\\Local\\Programs\\Python\\Python311\\Lib\\site-packages\\keras\\src\\optimizers\\__init__.py:309: The name tf.train.Optimizer is deprecated. Please use tf.compat.v1.train.Optimizer instead.\n",
            "\n"
          ]
        }
      ],
      "source": [
        "model = Sequential()\n",
        "model.add(LSTM(units=50, return_sequences=True, input_shape=(X_train.shape[1], 1)))\n",
        "model.add(LSTM(units=50))\n",
        "model.add(Dense(units=1))\n",
        "model.compile(optimizer='adam', loss='mean_squared_error')"
      ]
    },
    {
      "cell_type": "markdown",
      "id": "0f2f7b37-0539-4bc4-8991-abba5ff60c4e",
      "metadata": {
        "id": "0f2f7b37-0539-4bc4-8991-abba5ff60c4e"
      },
      "source": [
        "#### Model training"
      ]
    },
    {
      "cell_type": "code",
      "execution_count": null,
      "id": "6b3c9ea1-7381-459e-95d6-bc2e5629f55b",
      "metadata": {
        "id": "6b3c9ea1-7381-459e-95d6-bc2e5629f55b",
        "outputId": "6d69270a-af37-44d8-ee56-72df2d6e682b"
      },
      "outputs": [
        {
          "name": "stdout",
          "output_type": "stream",
          "text": [
            "Epoch 1/10\n",
            "WARNING:tensorflow:From C:\\Users\\ASUS\\AppData\\Local\\Programs\\Python\\Python311\\Lib\\site-packages\\keras\\src\\utils\\tf_utils.py:492: The name tf.ragged.RaggedTensorValue is deprecated. Please use tf.compat.v1.ragged.RaggedTensorValue instead.\n",
            "\n",
            "1080/1080 [==============================] - 14s 8ms/step - loss: 0.0021\n",
            "Epoch 2/10\n",
            "1080/1080 [==============================] - 9s 9ms/step - loss: 1.1469e-04\n",
            "Epoch 3/10\n",
            "1080/1080 [==============================] - 9s 8ms/step - loss: 1.1151e-04\n",
            "Epoch 4/10\n",
            "1080/1080 [==============================] - 9s 8ms/step - loss: 1.0765e-04\n",
            "Epoch 5/10\n",
            "1080/1080 [==============================] - 9s 8ms/step - loss: 9.7230e-05\n",
            "Epoch 6/10\n",
            "1080/1080 [==============================] - 9s 9ms/step - loss: 8.0715e-05\n",
            "Epoch 7/10\n",
            "1080/1080 [==============================] - 9s 8ms/step - loss: 6.4348e-05\n",
            "Epoch 8/10\n",
            "1080/1080 [==============================] - 9s 8ms/step - loss: 5.5471e-05\n",
            "Epoch 9/10\n",
            "1080/1080 [==============================] - 9s 8ms/step - loss: 4.8130e-05\n",
            "Epoch 10/10\n",
            "1080/1080 [==============================] - 9s 8ms/step - loss: 3.9647e-05\n"
          ]
        },
        {
          "data": {
            "text/plain": [
              "<keras.src.callbacks.History at 0x21f8227dcd0>"
            ]
          },
          "execution_count": 7,
          "metadata": {},
          "output_type": "execute_result"
        }
      ],
      "source": [
        "model.fit(X_train, y_train, epochs=10, batch_size=32)"
      ]
    },
    {
      "cell_type": "markdown",
      "id": "b6c71a5a-f223-4dbe-a76d-447734fbf6a1",
      "metadata": {
        "id": "b6c71a5a-f223-4dbe-a76d-447734fbf6a1"
      },
      "source": [
        "#### Loss on test data"
      ]
    },
    {
      "cell_type": "code",
      "execution_count": null,
      "id": "423fc178-31dc-466a-a09a-6b9dddf43e26",
      "metadata": {
        "id": "423fc178-31dc-466a-a09a-6b9dddf43e26",
        "outputId": "a50a3e8e-1607-45ee-d7c0-e67d3d35d798"
      },
      "outputs": [
        {
          "name": "stdout",
          "output_type": "stream",
          "text": [
            "270/270 [==============================] - 2s 4ms/step - loss: 2.9608e-05\n",
            "Mean Squared Error on the test set: {2.960776873806026e-05}\n"
          ]
        }
      ],
      "source": [
        "loss = model.evaluate(X_test, y_test)\n",
        "print(f'Mean Squared Error on the test set:', {loss})"
      ]
    },
    {
      "cell_type": "markdown",
      "id": "be0bc3c7-ce76-4355-bf56-5f33af92f0a4",
      "metadata": {
        "id": "be0bc3c7-ce76-4355-bf56-5f33af92f0a4"
      },
      "source": [
        "### Generating signals based on the model's predictions for all data points"
      ]
    },
    {
      "cell_type": "code",
      "execution_count": null,
      "id": "e6402c96-3425-44c3-bcbe-9b40a12e8242",
      "metadata": {
        "id": "e6402c96-3425-44c3-bcbe-9b40a12e8242"
      },
      "outputs": [],
      "source": [
        "def signals(model, sequence, actual, length):\n",
        "    predictions = model.predict(sequence)\n",
        "    signal = []\n",
        "    for i in range(length):\n",
        "        signal.append(0)\n",
        "    for i in range(len(actual)):\n",
        "        if(predictions[i][0] - actual[i] > 0.02):\n",
        "            signal.append(1)\n",
        "        elif(predictions[i][0] - actual[i] < -0.02):\n",
        "            signal.append(-1)\n",
        "        else:\n",
        "            signal.append(0)\n",
        "    return pd.Series(signal)"
      ]
    },
    {
      "cell_type": "code",
      "execution_count": null,
      "id": "415a8f32-1cea-46d2-8e22-e7ab5eed4213",
      "metadata": {
        "id": "415a8f32-1cea-46d2-8e22-e7ab5eed4213",
        "outputId": "febc61f3-d652-4a9e-8630-09f616d20d30"
      },
      "outputs": [
        {
          "name": "stdout",
          "output_type": "stream",
          "text": [
            "1350/1350 [==============================] - 5s 4ms/step\n",
            "43200\n"
          ]
        }
      ],
      "source": [
        "s = np.reshape(sequences, (sequences.shape[0], sequences.shape[1], 1))\n",
        "signal = signals(model, s, curr, 10)\n",
        "type(signal)\n",
        "print(len(close))"
      ]
    },
    {
      "cell_type": "markdown",
      "id": "99f465f4-97a6-4678-b690-3ab46dbdaf46",
      "metadata": {
        "id": "99f465f4-97a6-4678-b690-3ab46dbdaf46"
      },
      "source": [
        "### Backtester (same as of trend analysis)"
      ]
    },
    {
      "cell_type": "code",
      "execution_count": null,
      "id": "bf1ac307-b2cc-4548-ae90-cefe16b2d540",
      "metadata": {
        "id": "bf1ac307-b2cc-4548-ae90-cefe16b2d540"
      },
      "outputs": [],
      "source": [
        "def backtester(close, signal, stop_loss = 0.1):\n",
        "    '''\n",
        "    parameters:\n",
        "        close - closing prices (pd Series object)\n",
        "        signal - buy/sell signal (pd Series object)\n",
        "        stop_loss - if difference is more than 0.1 times, then stop loss triggered\n",
        "    returns:\n",
        "        port - portfolio across time (pd Series object)\n",
        "    '''\n",
        "    amt = close.iat[0] # initial amount\n",
        "    num = 0\n",
        "    portfolio = []\n",
        "    buy_price = 0\n",
        "    num_trades = 0\n",
        "    for i in range(len(close)):\n",
        "        # if signal is buy, we buy num number of BTC and amt changes to 0\n",
        "        if(buy_price == 0 and signal.iat[i] == 1):\n",
        "            num = amt/close.iat[i]\n",
        "            amt = 0\n",
        "            buy_price = close.iat[i]\n",
        "            num_trades += 1\n",
        "        # if signal is sell, we sell num number of BTC to get num * current closing price\n",
        "        elif(buy_price != 0 and signal.iat[i] == -1):\n",
        "            amt = num * close.iat[i]\n",
        "            num = 0\n",
        "            buy_price = 0\n",
        "            num_trades += 1\n",
        "        elif(buy_price != 0 and close.iat[i] < (1-stop_loss)*buy_price):\n",
        "            amt = num * close.iat[i]\n",
        "            num = 0\n",
        "            buy_price = 0\n",
        "            num_trades += 1\n",
        "        portfolio.append(amt + num * close.iat[i])\n",
        "    port = pd.Series(portfolio, index=close.index)\n",
        "    return port, num_trades"
      ]
    },
    {
      "cell_type": "markdown",
      "id": "3e8a29a5-b4c6-4ead-8dd4-a00780c2397a",
      "metadata": {
        "id": "3e8a29a5-b4c6-4ead-8dd4-a00780c2397a"
      },
      "source": [
        "### Plotting predictions vs Close prices"
      ]
    },
    {
      "cell_type": "code",
      "execution_count": null,
      "id": "36d4f0a6-4e72-4c48-a8e3-3ac17b0305a0",
      "metadata": {
        "id": "36d4f0a6-4e72-4c48-a8e3-3ac17b0305a0",
        "outputId": "59abcaa9-0dc1-44a4-f0da-5b9c37a7d102"
      },
      "outputs": [
        {
          "name": "stdout",
          "output_type": "stream",
          "text": [
            "Starting amount: 34669.9\n",
            "Final amount: 37874.169090711956\n",
            "Profit percentage = 9.242221900587989 %\n",
            "Number of trades =  109\n",
            "37874.169090711956\n"
          ]
        },
        {
          "data": {
            "text/plain": [
              "<Axes: >"
            ]
          },
          "execution_count": 13,
          "metadata": {},
          "output_type": "execute_result"
        },
        {
          "data": {
            "image/png": "[encoded data removed]",
            "text/plain": [
              "<Figure size 640x480 with 1 Axes>"
            ]
          },
          "metadata": {},
          "output_type": "display_data"
        }
      ],
      "source": [
        "portfolio, num_trades = backtester(df['close'], signal)\n",
        "print(\"Starting amount:\", portfolio.iat[0])\n",
        "print(\"Final amount:\", portfolio.iat[len(portfolio)-1])\n",
        "print(\"Profit percentage =\", (portfolio.iat[len(portfolio)-1]/portfolio.iat[0]-1)*100,\"%\")\n",
        "print(\"Number of trades = \", num_trades)\n",
        "print(portfolio[len(portfolio)-1])\n",
        "portfolio.plot()\n",
        "df['close'].plot()"
      ]
    }
  ],
  "metadata": {
    "kernelspec": {
      "display_name": "Python 3 (ipykernel)",
      "language": "python",
      "name": "python3"
    },
    "language_info": {
      "codemirror_mode": {
        "name": "ipython",
        "version": 3
      },
      "file_extension": ".py",
      "mimetype": "text/x-python",
      "name": "python",
      "nbconvert_exporter": "python",
      "pygments_lexer": "ipython3",
      "version": "3.11.4"
    },
    "colab": {
      "provenance": []
    }
  },
  "nbformat": 4,
  "nbformat_minor": 5
}